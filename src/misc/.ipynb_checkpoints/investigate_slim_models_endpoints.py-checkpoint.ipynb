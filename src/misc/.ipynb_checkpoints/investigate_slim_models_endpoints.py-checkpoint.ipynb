{
 "cells": [
  {
   "cell_type": "markdown",
   "metadata": {},
   "source": [
    "# Investigate Slim Models Endpoints"
   ]
  },
  {
   "cell_type": "code",
   "execution_count": 1,
   "metadata": {},
   "outputs": [
    {
     "name": "stdout",
     "output_type": "stream",
     "text": [
      "/home/yg/anaconda2/bin/python\n"
     ]
    }
   ],
   "source": [
    "import urllib2\n",
    "import sys\n",
    "\n",
    "import numpy as np\n",
    "import tensorflow as tf\n",
    "\n",
    "slim = tf.contrib.slim\n",
    "\n",
    "print(sys.executable)"
   ]
  },
  {
   "cell_type": "code",
   "execution_count": 2,
   "metadata": {
    "collapsed": true
   },
   "outputs": [],
   "source": [
    "# add slim models into path and load slim models\n",
    "sys.path.append(\n",
    "    '../serving/tf_models/research/slim/'\n",
    ")\n",
    "\n",
    "from nets import inception"
   ]
  },
  {
   "cell_type": "code",
   "execution_count": 3,
   "metadata": {},
   "outputs": [
    {
     "name": "stdout",
     "output_type": "stream",
     "text": [
      "INFO:tensorflow:Restoring parameters from ../serving/tf_checkpoints/slim/inception-resnet-v2/inception_resnet_v2_2016_08_30.ckpt\n"
     ]
    }
   ],
   "source": [
    "# creating TensorFlow session and loading the model\n",
    "ckpt = '../serving/tf_checkpoints/slim/inception-resnet-v2/inception_resnet_v2_2016_08_30.ckpt'\n",
    "\n",
    "graph = tf.Graph()\n",
    "sess = tf.InteractiveSession(graph=graph)\n",
    "\n",
    "# define graph from ckpt\n",
    "\n",
    "# a single image as input\n",
    "# images = tf.placeholder(\n",
    "#     tf.float32, shape = [32, 299, 299, 3], name=\"images\"\n",
    "# )\n",
    "image_url = \"https://upload.wikimedia.org/wikipedia/commons/d/d9/First_Student_IC_school_bus_202076.jpg\"\n",
    "\n",
    "image_bytes = image_bytes = urllib2.urlopen(image_url).read()\n",
    "\n",
    "image = tf.image.decode_jpeg(image_bytes, channels=3)\n",
    "\n",
    "# as a batch with single image\n",
    "images = tf.expand_dims(image, 0)\n",
    "\n",
    "images = tf.image.resize_images(images, [299, 299])\n",
    "\n",
    "with slim.arg_scope(\n",
    "    inception.inception_resnet_v2_arg_scope()\n",
    "):\n",
    "    # inception resnet models\n",
    "    logits, endpoints = inception.inception_resnet_v2(\n",
    "        images, num_classes=1001, is_training=False\n",
    "    )\n",
    "    \n",
    "init_fn = slim.assign_from_checkpoint_fn(\n",
    "    ckpt, slim.get_model_variables('InceptionResnetV2')\n",
    ")\n",
    "    \n",
    "init_fn(sess)"
   ]
  },
  {
   "cell_type": "code",
   "execution_count": 36,
   "metadata": {},
   "outputs": [],
   "source": [
    "prelogits = sess.graph.get_tensor_by_name(\n",
    "    'InceptionResnetV2/Logits/Flatten/Reshape:0'\n",
    ")\n",
    "\n",
    "avgpool = sess.graph.get_tensor_by_name(\n",
    "    \"InceptionResnetV2/Logits/AvgPool_1a_8x8/AvgPool:0\"\n",
    ")\n",
    "\n",
    "bn7b = sess.graph.get_tensor_by_name(\n",
    "    \"InceptionResnetV2/InceptionResnetV2/Conv2d_7b_1x1/BatchNorm/batchnorm/add_1:0\"\n",
    ")"
   ]
  },
  {
   "cell_type": "code",
   "execution_count": 37,
   "metadata": {},
   "outputs": [],
   "source": [
    "logits_value, endpoints_value, prelogits_value, avgpool_value, bn7b_value = sess.run(\n",
    "    [logits, endpoints, prelogits, avgpool, bn7b]\n",
    ")"
   ]
  },
  {
   "cell_type": "code",
   "execution_count": 39,
   "metadata": {},
   "outputs": [
    {
     "data": {
      "text/plain": [
       "['MaxPool_3a_3x3',\n",
       " 'Conv2d_2b_3x3',\n",
       " 'Mixed_7a',\n",
       " 'MaxPool_5a_3x3',\n",
       " 'PreLogitsFlatten',\n",
       " 'Conv2d_3b_1x1',\n",
       " 'Conv2d_2a_3x3',\n",
       " 'Conv2d_7b_1x1',\n",
       " 'Mixed_5b',\n",
       " 'Predictions',\n",
       " 'AuxLogits',\n",
       " 'Conv2d_1a_3x3',\n",
       " 'PreAuxLogits',\n",
       " 'Logits',\n",
       " 'Conv2d_4a_3x3',\n",
       " 'Mixed_6a']"
      ]
     },
     "execution_count": 39,
     "metadata": {},
     "output_type": "execute_result"
    }
   ],
   "source": [
    "endpoints_value.keys()"
   ]
  },
  {
   "cell_type": "code",
   "execution_count": 40,
   "metadata": {},
   "outputs": [
    {
     "data": {
      "text/plain": [
       "array([[  5.64772987,   2.87262583,   3.02955508, ...,  30.23136902,\n",
       "         77.7572403 ,  64.70604706]], dtype=float32)"
      ]
     },
     "execution_count": 40,
     "metadata": {},
     "output_type": "execute_result"
    }
   ],
   "source": [
    "endpoints_value['PreLogitsFlatten']"
   ]
  },
  {
   "cell_type": "code",
   "execution_count": 41,
   "metadata": {},
   "outputs": [
    {
     "data": {
      "text/plain": [
       "array([[  5.64772987,   2.87262583,   3.02955508, ...,  30.23136902,\n",
       "         77.7572403 ,  64.70604706]], dtype=float32)"
      ]
     },
     "execution_count": 41,
     "metadata": {},
     "output_type": "execute_result"
    }
   ],
   "source": [
    "prelogits_value"
   ]
  },
  {
   "cell_type": "code",
   "execution_count": 44,
   "metadata": {},
   "outputs": [
    {
     "data": {
      "text/plain": [
       "array([[[[  5.64772987,   2.87262583,   3.02955508, ...,  30.23136902,\n",
       "           77.7572403 ,  64.70604706]]]], dtype=float32)"
      ]
     },
     "execution_count": 44,
     "metadata": {},
     "output_type": "execute_result"
    }
   ],
   "source": [
    "avgpool_value"
   ]
  },
  {
   "cell_type": "code",
   "execution_count": 42,
   "metadata": {},
   "outputs": [
    {
     "data": {
      "text/plain": [
       "array([[[[   0.        ,    0.        ,    0.        , ...,   15.29215908,\n",
       "            36.79019165,   24.0002079 ],\n",
       "         [   0.        ,    0.        ,    0.        , ...,    0.        ,\n",
       "            10.39277744,    0.        ],\n",
       "         [   0.        ,    0.        ,    0.        , ...,    0.        ,\n",
       "            44.46060562,    0.        ],\n",
       "         ..., \n",
       "         [   0.        ,    0.        ,    0.        , ...,    0.        ,\n",
       "            10.85909176,    0.        ],\n",
       "         [   0.        ,    0.        ,    0.        , ...,    0.        ,\n",
       "            32.63766479,    0.        ],\n",
       "         [   0.        ,    0.        ,    7.07338047, ...,   39.29033661,\n",
       "            42.85763168,   49.53348923]],\n",
       "\n",
       "        [[   0.        ,    0.        ,    0.        , ...,    0.        ,\n",
       "            12.62023735,    0.        ],\n",
       "         [   0.        ,    0.        ,    0.        , ...,    0.        ,\n",
       "            31.57925987,    0.        ],\n",
       "         [   0.        ,    0.        ,    0.        , ...,    0.        ,\n",
       "             4.61457443,    0.        ],\n",
       "         ..., \n",
       "         [   0.        ,    0.        ,    0.        , ...,    0.        ,\n",
       "             0.        ,    0.        ],\n",
       "         [   0.        ,    0.        ,    0.        , ...,    0.        ,\n",
       "             0.        ,    0.        ],\n",
       "         [   0.        ,    0.        ,    0.        , ...,    0.        ,\n",
       "             8.57108974,   24.193573  ]],\n",
       "\n",
       "        [[   0.        ,    0.        ,    0.        , ...,    0.        ,\n",
       "            47.69618988,    0.        ],\n",
       "         [   0.        ,    0.        ,    0.        , ...,   14.51765251,\n",
       "           115.50705719,   30.14954185],\n",
       "         [   0.        ,    0.        ,    0.        , ...,   10.62446213,\n",
       "            98.25551605,   58.23034286],\n",
       "         ..., \n",
       "         [   0.        ,    0.        ,    0.        , ...,   37.37829208,\n",
       "           106.6159668 ,   69.89293671],\n",
       "         [   0.        ,    0.        ,    0.        , ...,   28.81389618,\n",
       "            83.43950653,   60.85306549],\n",
       "         [   0.        ,    0.        ,    0.        , ...,   16.14728165,\n",
       "            53.26730728,   29.93541718]],\n",
       "\n",
       "        ..., \n",
       "        [[   0.        ,    0.        ,    0.        , ...,    0.        ,\n",
       "            78.37625122,    0.        ],\n",
       "         [   0.        ,    0.        ,    0.        , ...,   37.66916275,\n",
       "           141.80758667,   43.00777054],\n",
       "         [   0.        ,    0.        ,    0.        , ...,   21.63935661,\n",
       "            97.70741272,   80.55639648],\n",
       "         ..., \n",
       "         [   0.        ,    0.        ,    0.        , ...,   63.77234268,\n",
       "            88.91960144,   61.40890121],\n",
       "         [   0.        ,    0.        ,    0.        , ...,   25.98905563,\n",
       "            75.58338928,   49.55105591],\n",
       "         [   0.        ,    0.        ,    0.        , ...,   23.23755455,\n",
       "            61.85368729,   13.74441719]],\n",
       "\n",
       "        [[   0.        ,    0.        ,    0.        , ...,    0.        ,\n",
       "            79.77928162,    0.        ],\n",
       "         [   0.        ,    0.        ,    0.        , ...,   24.44391823,\n",
       "           126.26485443,   51.63491821],\n",
       "         [   0.        ,    0.        ,    0.        , ...,   11.06581783,\n",
       "            73.25709534,   74.42066193],\n",
       "         ..., \n",
       "         [   0.        ,    0.        ,    0.        , ...,    0.        ,\n",
       "             0.        ,   91.58895874],\n",
       "         [   0.        ,    0.        ,    0.        , ...,    0.        ,\n",
       "             0.        ,   82.42592621],\n",
       "         [   0.        ,    0.        ,   52.60133743, ...,   83.62038422,\n",
       "             0.        ,  164.73899841]],\n",
       "\n",
       "        [[   0.        ,   11.10806561,   14.47730923, ...,  122.6330719 ,\n",
       "           195.88227844,  134.16125488],\n",
       "         [   0.        ,    0.        ,    0.        , ...,   85.73744202,\n",
       "           168.91763306,  141.43460083],\n",
       "         [   0.        ,    0.        ,    0.        , ...,   77.26689148,\n",
       "           140.35684204,  174.13619995],\n",
       "         ..., \n",
       "         [ 127.54441833,    0.        ,    0.        , ...,   76.58554077,\n",
       "           146.45135498,  262.3543396 ],\n",
       "         [  40.971241  ,   17.23962402,   38.55053711, ...,  118.83103943,\n",
       "           158.88337708,  374.17633057],\n",
       "         [  62.37322998,  155.50036621,   81.18896484, ...,  134.09939575,\n",
       "           171.24299622,  311.65231323]]]], dtype=float32)"
      ]
     },
     "execution_count": 42,
     "metadata": {},
     "output_type": "execute_result"
    }
   ],
   "source": [
    "endpoints_value['Conv2d_7b_1x1']"
   ]
  },
  {
   "cell_type": "code",
   "execution_count": 43,
   "metadata": {},
   "outputs": [
    {
     "data": {
      "text/plain": [
       "array([[[[-101.89790344,  -45.46296692,  -11.42472363, ...,   15.29215908,\n",
       "            36.79019165,   24.0002079 ],\n",
       "         [-141.54814148, -109.62013245,  -45.31885529, ...,  -18.47332382,\n",
       "            10.39277744,   -6.70776272],\n",
       "         [-171.34814453, -129.79942322,  -63.73823929, ...,  -12.30064774,\n",
       "            44.46060562,  -13.15091515],\n",
       "         ..., \n",
       "         [-166.748703  , -132.26144409,  -60.62723541, ...,  -30.64783096,\n",
       "            10.85909176,  -27.31490326],\n",
       "         [-152.42272949, -114.3939743 ,  -51.35037231, ...,  -12.1384182 ,\n",
       "            32.63766479,  -19.39356804],\n",
       "         [ -50.76308441,   -8.1519928 ,    7.07338047, ...,   39.29033661,\n",
       "            42.85763168,   49.53348923]],\n",
       "\n",
       "        [[-181.73074341,  -23.7576046 ,  -20.82741165, ...,  -43.24436951,\n",
       "            12.62023735,  -32.0804863 ],\n",
       "         [-191.25050354,  -42.8298111 ,  -28.98100853, ...,  -22.78936768,\n",
       "            31.57925987,  -11.6018877 ],\n",
       "         [-191.56163025,  -58.52478027,  -33.39507675, ...,  -28.7959137 ,\n",
       "             4.61457443,  -17.13350677],\n",
       "         ..., \n",
       "         [-186.02807617,  -64.56314087,  -34.48117447, ...,  -41.09391022,\n",
       "           -24.64944077,  -30.17345619],\n",
       "         [-163.96710205,  -48.67927933,  -31.66331863, ...,  -20.24350929,\n",
       "           -17.02341843,   -1.95491159],\n",
       "         [-116.82822418,   -5.82987547,  -14.00759125, ...,   -4.08922386,\n",
       "             8.57108974,   24.193573  ]],\n",
       "\n",
       "        [[-227.93777466,  -42.45748138,  -15.67388058, ...,  -34.24831009,\n",
       "            47.69618988,  -43.43935776],\n",
       "         [-222.13912964,  -47.62980652,  -15.97045231, ...,   14.51765251,\n",
       "           115.50705719,   30.14954185],\n",
       "         [-193.08792114,  -69.39577484,  -33.68816376, ...,   10.62446213,\n",
       "            98.25551605,   58.23034286],\n",
       "         ..., \n",
       "         [-147.7545929 ,  -42.94976044,  -20.7322731 , ...,   37.37829208,\n",
       "           106.6159668 ,   69.89293671],\n",
       "         [-144.07447815,  -38.18703461,  -20.39857101, ...,   28.81389618,\n",
       "            83.43950653,   60.85306549],\n",
       "         [-119.22634888,  -16.85035133,  -11.65954113, ...,   16.14728165,\n",
       "            53.26730728,   29.93541718]],\n",
       "\n",
       "        ..., \n",
       "        [[-291.81085205,  -35.0092926 ,  -30.78029442, ...,  -38.39141083,\n",
       "            78.37625122,  -62.4087944 ],\n",
       "         [-218.96539307,  -30.61878204,  -17.86180878, ...,   37.66916275,\n",
       "           141.80758667,   43.00777054],\n",
       "         [-177.92677307,  -57.96036148,  -39.33206177, ...,   21.63935661,\n",
       "            97.70741272,   80.55639648],\n",
       "         ..., \n",
       "         [-162.03399658,  -99.12467194,   -5.38055468, ...,   63.77234268,\n",
       "            88.91960144,   61.40890121],\n",
       "         [-189.68249512,  -67.25515747,  -21.01189232, ...,   25.98905563,\n",
       "            75.58338928,   49.55105591],\n",
       "         [-164.34176636,  -13.64052963,   -6.49300194, ...,   23.23755455,\n",
       "            61.85368729,   13.74441719]],\n",
       "\n",
       "        [[-250.62973022,  -42.35719681,  -21.16974831, ...,  -22.59506226,\n",
       "            79.77928162,  -46.28004456],\n",
       "         [-187.54957581,  -32.31087112,  -26.48180962, ...,   24.44391823,\n",
       "           126.26485443,   51.63491821],\n",
       "         [-149.95475769,  -37.19107819,  -43.83480835, ...,   11.06581783,\n",
       "            73.25709534,   74.42066193],\n",
       "         ..., \n",
       "         [-174.60850525, -101.13359833,  -48.55918884, ...,   -8.59959126,\n",
       "            -0.50277591,   91.58895874],\n",
       "         [-248.19520569, -173.73088074,  -26.8957386 , ...,  -19.41037941,\n",
       "           -72.67469025,   82.42592621],\n",
       "         [-154.0846405 ,  -22.27326965,   52.60133743, ...,   83.62038422,\n",
       "           -34.79811478,  164.73899841]],\n",
       "\n",
       "        [[ -98.46770477,   11.10806561,   14.47730923, ...,  122.6330719 ,\n",
       "           195.88227844,  134.16125488],\n",
       "         [-101.71124268,  -32.75625229,  -28.33547211, ...,   85.73744202,\n",
       "           168.91763306,  141.43460083],\n",
       "         [ -34.45357895,  -49.79220963,  -41.3132515 , ...,   77.26689148,\n",
       "           140.35684204,  174.13619995],\n",
       "         ..., \n",
       "         [ 127.54441833, -127.34069824,  -40.6818924 , ...,   76.58554077,\n",
       "           146.45135498,  262.3543396 ],\n",
       "         [  40.971241  ,   17.23962402,   38.55053711, ...,  118.83103943,\n",
       "           158.88337708,  374.17633057],\n",
       "         [  62.37322998,  155.50036621,   81.18896484, ...,  134.09939575,\n",
       "           171.24299622,  311.65231323]]]], dtype=float32)"
      ]
     },
     "execution_count": 43,
     "metadata": {},
     "output_type": "execute_result"
    }
   ],
   "source": [
    "bn7b_value"
   ]
  },
  {
   "cell_type": "code",
   "execution_count": null,
   "metadata": {
    "collapsed": true
   },
   "outputs": [],
   "source": []
  },
  {
   "cell_type": "code",
   "execution_count": null,
   "metadata": {
    "collapsed": true
   },
   "outputs": [],
   "source": []
  },
  {
   "cell_type": "code",
   "execution_count": null,
   "metadata": {
    "collapsed": true
   },
   "outputs": [],
   "source": []
  },
  {
   "cell_type": "code",
   "execution_count": null,
   "metadata": {
    "collapsed": true
   },
   "outputs": [],
   "source": []
  }
 ],
 "metadata": {
  "kernelspec": {
   "display_name": "Python 2",
   "language": "python",
   "name": "python2"
  },
  "language_info": {
   "codemirror_mode": {
    "name": "ipython",
    "version": 2
   },
   "file_extension": ".py",
   "mimetype": "text/x-python",
   "name": "python",
   "nbconvert_exporter": "python",
   "pygments_lexer": "ipython2",
   "version": "2.7.14"
  }
 },
 "nbformat": 4,
 "nbformat_minor": 2
}
